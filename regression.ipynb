{
  "nbformat": 4,
  "nbformat_minor": 0,
  "metadata": {
    "colab": {
      "name": "廖品捷project1.ipynb",
      "provenance": [],
      "collapsed_sections": [],
      "toc_visible": true
    },
    "kernelspec": {
      "name": "python3",
      "display_name": "Python 3"
    },
    "accelerator": "GPU"
  },
  "cells": [
    {
      "cell_type": "code",
      "metadata": {
        "id": "L7rp6baVw00s",
        "colab": {
          "base_uri": "https://localhost:8080/"
        },
        "outputId": "782eb60f-3c10-41b5-9fc6-98354e822896"
      },
      "source": [
        "!wget -nc 140.114.76.206:8000/pA1.csv\n",
        "!wget -nc 140.114.76.206:8000/pA2.csv"
      ],
      "execution_count": null,
      "outputs": [
        {
          "output_type": "stream",
          "text": [
            "File ‘pA1.csv’ already there; not retrieving.\n",
            "\n",
            "File ‘pA2.csv’ already there; not retrieving.\n",
            "\n"
          ],
          "name": "stdout"
        }
      ]
    },
    {
      "cell_type": "code",
      "metadata": {
        "id": "5bqDURqtjSj_"
      },
      "source": [
        "import numpy as np\n",
        "import pandas as pd\n",
        "import matplotlib.pyplot as plt\n",
        "from mpl_toolkits.mplot3d import Axes3D\n",
        "\n",
        "import torch\n",
        "from torch import nn\n",
        "from torch.nn import functional as F\n",
        "from torch.utils.data import Dataset, DataLoader"
      ],
      "execution_count": null,
      "outputs": []
    },
    {
      "cell_type": "code",
      "metadata": {
        "id": "_vf3np-saT7g"
      },
      "source": [
        "seed = 999\n",
        "torch.manual_seed(seed)\n",
        "torch.backends.cudnn.deterministic = True"
      ],
      "execution_count": null,
      "outputs": []
    },
    {
      "cell_type": "code",
      "metadata": {
        "id": "uDmn1ZOVapXj"
      },
      "source": [
        "class Data:\n",
        "    def __init__(self, csv_path):\n",
        "        super().__init__()\n",
        "        self.anns = pd.read_csv(csv_path).to_dict('records')\n",
        "\n",
        "    def __len__(self):\n",
        "        return len(self.anns)\n",
        "\n",
        "    def __getitem__(self, idx):\n",
        "        ann = self.anns[idx]\n",
        "        x = torch.tensor(ann['x'])\n",
        "        y = torch.tensor(ann['y'])\n",
        "        return x, y\n",
        "\n",
        "\n",
        "class Net(nn.Module):\n",
        "    def __init__(self):\n",
        "        super().__init__()\n",
        "        self.a = nn.Parameter(torch.rand(1) * 0.001)\n",
        "        self.b = nn.Parameter(torch.rand(1) * 0.001)\n",
        "    \n",
        "    def forward(self, xs):\n",
        "        ps = self.a * xs + self.b\n",
        "        return ps\n"
      ],
      "execution_count": null,
      "outputs": []
    },
    {
      "cell_type": "markdown",
      "metadata": {
        "id": "zifnGriwQ6LV"
      },
      "source": [
        "# Problem A1 and Report"
      ]
    },
    {
      "cell_type": "code",
      "metadata": {
        "colab": {
          "base_uri": "https://localhost:8080/"
        },
        "id": "bR2ijg4jp--E",
        "outputId": "9dc8f3c2-b2b6-48b5-895d-5f65c8c32c94"
      },
      "source": [
        "data = Data('./pA1.csv')\n",
        "loader = DataLoader(data, batch_size=1, shuffle=True)\n",
        "\n",
        "device = 'cpu'\n",
        "model = Net().to(device)\n",
        "criterion = nn.L1Loss()\n",
        "optimizer = torch.optim.Adam(model.parameters(), lr=1e-1)\n",
        "\n",
        "history = {\n",
        "    'loss': [],\n",
        "    'a': [],\n",
        "    'b': [],\n",
        "    'x': [],\n",
        "    'y': []\n",
        "}\n",
        "\n",
        "for epoch in range(100):\n",
        "  tloss = 0\n",
        "  for xs,ys in iter(loader):\n",
        "    xs = xs.to(device)\n",
        "    ys = ys.to(device)\n",
        "    \n",
        "    optimizer.zero_grad()\n",
        "    ps = model(xs)\n",
        "    loss = criterion(ps,ys)\n",
        "    loss.backward()\n",
        "    optimizer.step()\n",
        "    tloss += loss.detach().item()\n",
        "    ##\n",
        "    history['loss'].append(loss.detach().item())\n",
        "    history['a'].append(model.a.item())\n",
        "    history['b'].append(model.b.item())\n",
        "    if epoch == 0:\n",
        "      history['x'].append(xs)\n",
        "      history['y'].append(ys)\n",
        "  al = tloss/50 #count the average loss of each epoch\n",
        "  print(f'average loss: {al}')\n"
      ],
      "execution_count": null,
      "outputs": [
        {
          "output_type": "stream",
          "text": [
            "average loss: 2.8755170345306396\n",
            "average loss: 0.34984325408935546\n",
            "average loss: 0.1603431797027588\n",
            "average loss: 0.18593189239501953\n",
            "average loss: 0.1525813388824463\n",
            "average loss: 0.14869274139404298\n",
            "average loss: 0.17497655868530274\n",
            "average loss: 0.19349690914154052\n",
            "average loss: 0.17205965995788575\n",
            "average loss: 0.2047729969024658\n",
            "average loss: 0.15755998611450195\n",
            "average loss: 0.16986532211303712\n",
            "average loss: 0.1622530746459961\n",
            "average loss: 0.17272727012634279\n",
            "average loss: 0.16594101905822753\n",
            "average loss: 0.1971064567565918\n",
            "average loss: 0.17956297874450683\n",
            "average loss: 0.15194106101989746\n",
            "average loss: 0.1830865478515625\n",
            "average loss: 0.17349908828735353\n",
            "average loss: 0.172806453704834\n",
            "average loss: 0.18402909755706787\n",
            "average loss: 0.1776180362701416\n",
            "average loss: 0.15868826866149902\n",
            "average loss: 0.2102586078643799\n",
            "average loss: 0.1444789981842041\n",
            "average loss: 0.19523094177246095\n",
            "average loss: 0.15939334869384766\n",
            "average loss: 0.21727246284484864\n",
            "average loss: 0.16049616813659667\n",
            "average loss: 0.18846184253692627\n",
            "average loss: 0.1607351016998291\n",
            "average loss: 0.18349413871765136\n",
            "average loss: 0.2135106372833252\n",
            "average loss: 0.19569530487060546\n",
            "average loss: 0.1709195041656494\n",
            "average loss: 0.1827658462524414\n",
            "average loss: 0.16013858795166017\n",
            "average loss: 0.16271946907043458\n",
            "average loss: 0.1582753849029541\n",
            "average loss: 0.17863371849060058\n",
            "average loss: 0.18742406368255615\n",
            "average loss: 0.17468971252441406\n",
            "average loss: 0.16431103706359862\n",
            "average loss: 0.15097437858581542\n",
            "average loss: 0.1555723762512207\n",
            "average loss: 0.16807853698730468\n",
            "average loss: 0.18346471786499025\n",
            "average loss: 0.1606668472290039\n",
            "average loss: 0.18815282344818116\n",
            "average loss: 0.1679121160507202\n",
            "average loss: 0.1863323974609375\n",
            "average loss: 0.19593149185180664\n",
            "average loss: 0.1927995491027832\n",
            "average loss: 0.15487157821655273\n",
            "average loss: 0.17899868965148927\n",
            "average loss: 0.17162338256835938\n",
            "average loss: 0.16271184921264648\n",
            "average loss: 0.14220731735229492\n",
            "average loss: 0.14704228401184083\n",
            "average loss: 0.1820586395263672\n",
            "average loss: 0.14044774055480957\n",
            "average loss: 0.178778076171875\n",
            "average loss: 0.21603368759155273\n",
            "average loss: 0.1622508668899536\n",
            "average loss: 0.1512112331390381\n",
            "average loss: 0.16713931083679198\n",
            "average loss: 0.16880718231201172\n",
            "average loss: 0.16858424186706544\n",
            "average loss: 0.1506122636795044\n",
            "average loss: 0.17833711624145507\n",
            "average loss: 0.16290743827819823\n",
            "average loss: 0.19425074577331544\n",
            "average loss: 0.17041376113891601\n",
            "average loss: 0.17131378173828124\n",
            "average loss: 0.14470023155212403\n",
            "average loss: 0.1702891445159912\n",
            "average loss: 0.1879124689102173\n",
            "average loss: 0.16437209129333497\n",
            "average loss: 0.16167593002319336\n",
            "average loss: 0.16586579322814943\n",
            "average loss: 0.1457432460784912\n",
            "average loss: 0.18339651107788085\n",
            "average loss: 0.14606684684753418\n",
            "average loss: 0.16813557147979735\n",
            "average loss: 0.15001595497131348\n",
            "average loss: 0.1700979232788086\n",
            "average loss: 0.17103662490844726\n",
            "average loss: 0.1687149429321289\n",
            "average loss: 0.16209238052368163\n",
            "average loss: 0.16323513984680177\n",
            "average loss: 0.1662461566925049\n",
            "average loss: 0.17694480895996093\n",
            "average loss: 0.17661981105804445\n",
            "average loss: 0.17919569015502929\n",
            "average loss: 0.204210844039917\n",
            "average loss: 0.18629611015319825\n",
            "average loss: 0.15054865837097167\n",
            "average loss: 0.1541438579559326\n",
            "average loss: 0.1542089080810547\n"
          ],
          "name": "stdout"
        }
      ]
    },
    {
      "cell_type": "markdown",
      "metadata": {
        "id": "3gPDsahQnFRs"
      },
      "source": [
        "##Problem A1 Answer"
      ]
    },
    {
      "cell_type": "code",
      "metadata": {
        "colab": {
          "base_uri": "https://localhost:8080/"
        },
        "id": "RoahNMAJnFun",
        "outputId": "0343f368-030c-4b6f-a659-05c7b9f7b646"
      },
      "source": [
        "print(model.a)\n",
        "print(model.b)"
      ],
      "execution_count": null,
      "outputs": [
        {
          "output_type": "stream",
          "text": [
            "Parameter containing:\n",
            "tensor([4.9686], requires_grad=True)\n",
            "Parameter containing:\n",
            "tensor([3.9597], requires_grad=True)\n"
          ],
          "name": "stdout"
        }
      ]
    },
    {
      "cell_type": "markdown",
      "metadata": {
        "id": "IQxQVHLYQ9l3"
      },
      "source": [
        "## Visualize the loss function"
      ]
    },
    {
      "cell_type": "code",
      "metadata": {
        "colab": {
          "base_uri": "https://localhost:8080/",
          "height": 248
        },
        "id": "DeG1T31p3MlE",
        "outputId": "fbe717b2-1f0e-4d8b-9987-073d2383f878"
      },
      "source": [
        "\n",
        "fig = plt.figure()\n",
        "ax = fig.gca(projection='3d')\n",
        "\n",
        "# Make data.\n",
        "X = np.asarray(history['a'])\n",
        "Y = np.asarray(history['b'])\n",
        "Z = np.asarray(history['loss'])\n",
        "# Plot the surface.\n",
        "surf = ax.plot(X, Y, Z)\n",
        "ax.set_xlabel('a')\n",
        "ax.set_ylabel('b')\n",
        "ax.set_zlabel('Loss')\n",
        "\n",
        "\n",
        "plt.show()\n"
      ],
      "execution_count": null,
      "outputs": [
        {
          "output_type": "display_data",
          "data": {
            "image/png": "[encoded data removed]",
            "text/plain": [
              "<Figure size 432x288 with 1 Axes>"
            ]
          },
          "metadata": {
            "tags": [],
            "needs_background": "light"
          }
        }
      ]
    },
    {
      "cell_type": "markdown",
      "metadata": {
        "id": "CSv39sOXRHKl"
      },
      "source": [
        "# Problem A2"
      ]
    },
    {
      "cell_type": "code",
      "metadata": {
        "colab": {
          "base_uri": "https://localhost:8080/",
          "height": 1000
        },
        "id": "03a9kl47QBwa",
        "outputId": "9b579ba6-1868-4c31-e71d-b96bd8976273"
      },
      "source": [
        "class Net(nn.Module):\n",
        "    def __init__(self):\n",
        "        super().__init__()\n",
        "        #update paraneter\n",
        "        self.w0 = nn.Parameter(torch.rand(1) * 0.001)\n",
        "        self.w1 = nn.Parameter(torch.rand(1) * 0.001)\n",
        "        self.w2 = nn.Parameter(torch.rand(1) * 0.001)\n",
        "\n",
        "    \n",
        "    def forward(self, xs):\n",
        "        ps = self.w0 * pow(xs, 2) + self.w1 * xs + self.w2  \n",
        "        return ps\n",
        "\n",
        "\n",
        "#load data\n",
        "data = Data('./pA2.csv')\n",
        "loader = DataLoader(data, batch_size=1, shuffle=True)\n",
        "\n",
        "device = 'cpu'\n",
        "model = Net().to(device)\n",
        "criterion = nn.L1Loss()\n",
        "optimizer = torch.optim.Adam(model.parameters(), lr=1e-1)\n",
        "\n",
        "history = {\n",
        "    'loss': [],\n",
        "    'w0': [],\n",
        "    'w1': [],\n",
        "    'w2': []\n",
        "}\n",
        "\n",
        "for epoch in range(50):\n",
        "    tloss = 0\n",
        "    for xs, ys in iter(loader):\n",
        "        xs = xs.to(device)\n",
        "        ys = ys.to(device)\n",
        "\n",
        "        optimizer.zero_grad()\n",
        "        ps = model(xs)\n",
        "        loss = criterion(ps, ys)\n",
        "        loss.backward()\n",
        "        optimizer.step()\n",
        "        \n",
        "        tloss += loss.detach().item()\n",
        "        history['loss'].append(loss.detach().item())\n",
        "        history['w0'].append(model.w0.item())\n",
        "        history['w1'].append(model.w1.item())\n",
        "        history['w2'].append(model.w2.item())\n",
        "    al = tloss/50\n",
        "    print(f'average loss: {al}')\n",
        "\n",
        "w0 = model.w0\n",
        "w1 = model.w1\n",
        "w2 = model.w2\n",
        "print(f'wo:{w0}')\n",
        "print(f'w1:{w1}')\n",
        "print(f'w2:{w2}')\n",
        "\n",
        "#visualize the loss\n",
        "\n",
        "plt.plot(np.asarray(history['loss']))\n",
        "plt.ylabel('loss')\n",
        "plt.xlabel('epoch')\n",
        "\n",
        "plt.show()\n"
      ],
      "execution_count": null,
      "outputs": [
        {
          "output_type": "stream",
          "text": [
            "average loss: 1.571671495437622\n",
            "average loss: 0.2891588926315308\n",
            "average loss: 0.1381965970993042\n",
            "average loss: 0.06696905612945557\n",
            "average loss: 0.06639603614807128\n",
            "average loss: 0.04564701080322266\n",
            "average loss: 0.053747739791870114\n",
            "average loss: 0.0715661334991455\n",
            "average loss: 0.05304900646209717\n",
            "average loss: 0.05017764091491699\n",
            "average loss: 0.06319936275482178\n",
            "average loss: 0.05792160034179687\n",
            "average loss: 0.05566661357879639\n",
            "average loss: 0.05123688220977783\n",
            "average loss: 0.04901272296905518\n",
            "average loss: 0.061237940788269045\n",
            "average loss: 0.08271233558654785\n",
            "average loss: 0.0506044340133667\n",
            "average loss: 0.05701613903045654\n",
            "average loss: 0.05588059902191162\n",
            "average loss: 0.055481796264648435\n",
            "average loss: 0.06271502494812012\n",
            "average loss: 0.0552371883392334\n",
            "average loss: 0.06043163299560547\n",
            "average loss: 0.061322016716003416\n",
            "average loss: 0.0472633171081543\n",
            "average loss: 0.05437873363494873\n",
            "average loss: 0.06170946598052979\n",
            "average loss: 0.044473557472229\n",
            "average loss: 0.0803986120223999\n",
            "average loss: 0.05263124942779541\n",
            "average loss: 0.05312939643859863\n",
            "average loss: 0.03896948337554931\n",
            "average loss: 0.033036293983459475\n",
            "average loss: 0.05658848762512207\n",
            "average loss: 0.07335684776306152\n",
            "average loss: 0.06669313907623291\n",
            "average loss: 0.06653549194335938\n",
            "average loss: 0.05398850440979004\n",
            "average loss: 0.058227953910827634\n",
            "average loss: 0.03724933624267578\n",
            "average loss: 0.05114709854125977\n",
            "average loss: 0.04363235473632812\n",
            "average loss: 0.04361658096313477\n",
            "average loss: 0.03950483322143555\n",
            "average loss: 0.07491558074951171\n",
            "average loss: 0.055770955085754394\n",
            "average loss: 0.05067821025848389\n",
            "average loss: 0.05820903778076172\n",
            "average loss: 0.05049662113189697\n",
            "wo:Parameter containing:\n",
            "tensor([-2.0984], requires_grad=True)\n",
            "w1:Parameter containing:\n",
            "tensor([1.1592], requires_grad=True)\n",
            "w2:Parameter containing:\n",
            "tensor([3.9163], requires_grad=True)\n"
          ],
          "name": "stdout"
        },
        {
          "output_type": "display_data",
          "data": {
            "image/png": "[encoded data removed]",
            "text/plain": [
              "<Figure size 432x288 with 1 Axes>"
            ]
          },
          "metadata": {
            "tags": [],
            "needs_background": "light"
          }
        }
      ]
    }
  ]
}
